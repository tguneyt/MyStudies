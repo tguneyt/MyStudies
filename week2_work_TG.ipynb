{
 "cells": [
  {
   "cell_type": "markdown",
   "metadata": {},
   "source": [
    "            P y t h o n   L I S T S"
   ]
  },
  {
   "cell_type": "code",
   "execution_count": 2,
   "metadata": {},
   "outputs": [],
   "source": [
    "###################################################### LISTS\n",
    "\n",
    "\n",
    "# # list = [\"M\",\"E\",\"R\",\"H\",\"A\",\"B\",\"A\"]\n",
    "# # # list = [0,1,2,3,4,5,6,7]\n",
    "\n",
    "# # print(list[2:5])\n",
    "\n",
    "# # print(list[:-5])\n",
    "\n",
    "# # print(list[5:])\n",
    "\n",
    "# # print(list[:])\n",
    "\n",
    "# odd =[2,4,6,8]\n",
    "\n",
    "# print(odd,\"     1. liste\")\n",
    "\n",
    "# odd[0]=1\n",
    "\n",
    "# print (odd,\"    2. liste değer değiştir\")\n",
    "\n",
    "# odd[1:4] = [3,5,7]\n",
    "\n",
    "# print(odd,\"     3.  1:4 değiştir\")\n",
    "\n",
    "# odd.append(12) # sonuna sadece 1  veri ekler\n",
    "# print(odd,\"     4. append\")\n",
    "\n",
    "# odd.extend([9,11,13]) # birden fazla veri ekler\n",
    "# print(odd,\"     5. extend\")\n",
    "\n",
    "# odd=[1,3,5]\n",
    "\n",
    "# # print(odd+[9,7,5],\"     6. + ile ekle\") \n",
    "# # print([\"re\"]*3,\"        7.  listeyi çoklu yazdır\")\n",
    "\n",
    "# # odd=[1,9]\n",
    "# # odd.insert(1,3) # 1. index'e 3 değerini koy ve gerisini ötele\n",
    "# # print(odd)\n",
    "\n",
    "# odd[2:2]=[5,7,66] # 2.indexten sonra listeye bu verileri ekler\n",
    "# print(odd)        # diğer veriler silinmez\n",
    "# odd[1:2]=[5,7,66] # bu durumda 1. index'i siler \n",
    "# print(odd)\n",
    "\n",
    "#-----------------------------------------\n",
    "# my_list = [\"p\",\"r\",\"o\",\"b\",\"l\",\"e\",\"m\",\"p\",\"e\"]\n",
    "\n",
    "# # del my_list[2]\n",
    "# # print(my_list,\"     tek değer sil\")\n",
    "\n",
    "# # del my_list[1:5]\n",
    "# # print(my_list,\"     çoklu sil\")\n",
    "\n",
    "# # del my_list         # listeyi komple sil\n",
    "# # print(my_list)\n",
    "\n",
    "# # my_list.remove(\"p\")\n",
    "# # print(my_list,\"     remove\")\n",
    "\n",
    "# # print(my_list.pop(3)) #index'i yazdırır, #\n",
    "# # print(my_list.pop()) #değer girilmezse son index'i yazdırır\n",
    "\n",
    "# # my_list.clear()     #listeyi temizle\n",
    "# # print(my_list)\n",
    "\n",
    "#-----------------------------------------\n",
    "# my_list = [\"p\",\"r\",\"o\",\"b\",\"l\",\"e\",\"m\"]\n",
    "\n",
    "# my_list[2:5]=[]\n",
    "\n",
    "# print(my_list)\n",
    "\n",
    "# list1=[3,11,1,6,0,8,4,8]\n",
    "# print(list1.index(8)) #parantezdeki verinin index numarasını verir\n",
    "# print(list1.count(8)) #listede kaç adet bu veri olduğu\n",
    "\n",
    "# list1.sort() #sıralama yapar\n",
    "# print(list1) #print'in içine list1.sort YAZILMAZ\n",
    "\n",
    "# list1=[3,11,1,6,0,8,4,8]\n",
    "# list1.reverse() #listeyi tersden yazdır\n",
    "# print(list1)\n",
    "#--------------------------------------------\n",
    "# pow2 = [2**x for x in range(10)]\n",
    "# print(pow2)\n",
    "\n",
    "# pow2=[] #üstteki ile aynı işi görür\n",
    "# for x in range(10):\n",
    "#     pow2.append(2**x)\n",
    "# print(pow2)    \n",
    "\n",
    "# my_list = [\"p\",\"r\",\"o\",\"b\",\"l\",\"e\",\"m\"]\n",
    "# print(\"p\" in my_list) #listede bu değer varsa True\n",
    "# # print(\"a\" in my_list)\n",
    "# # print(\"c\" not in my_list) #listede yoksa True\n",
    "# for fruit in ['apple','banana','mango']:\n",
    "#     print(\"I like\",fruit)\n",
    "\n",
    "#--------------------------------------------\n",
    "\n",
    "# print(list(range(4)))\n",
    "\n",
    "# a=[1,2]\n",
    "# print(a)\n",
    "\n",
    "#--------------------------------------------\n",
    "\n",
    "\n",
    "# # <<<<<<<<<<<<<<<<<<<listeler>>>>>>>>>>>>>>>>>>>\n",
    "# numbers = [2, 18, 6, 4, 1, 12]\n",
    "# names = [\"ali\", \"ahmet\", \"mehmet\", \"kemal\"]\n",
    "# \n",
    "# print(\"1-   \", names)\n",
    "# print(\"2-    \", numbers)\n",
    "# \n",
    "# # names.extend(numbers)  # listeyi birleştir\n",
    "# \n",
    "# names.append(\"can\")\n",
    "# print(\"3-   \", names)\n",
    "# \n",
    "# names.insert(1, \"yusuf\")  # index'e değer atar, devamını push eder\n",
    "# print(\"4-    \", names)\n",
    "# \n",
    "# names.remove(\"ali\")\n",
    "# print(\"5-   \", names)\n",
    "# \n",
    "# names.pop()  # listenin son elemanını çıkardı\n",
    "# print(\"7-   \", names)\n",
    "# \n",
    "# print(\"8-   \", names.index(\"kemal\"), \". index\")  # index numarası\n",
    "# \n",
    "# names.append(\"kemal\")\n",
    "# print(\"9-   \", names.count(\"kemal\"), \"tane var\")\n",
    "# \n",
    "# numbers.reverse() #listeyi tersine çevir\n",
    "# print(\"12-  \", numbers)\n",
    "# \n",
    "# names.sort()\n",
    "# numbers.sort()\n",
    "# print(\"10-sıra  \", names)\n",
    "# print(\"11-sıra  \", numbers)\n",
    "# \n",
    "# names2 = names.copy() #listeyi kopyala\n",
    "# print(\"13- copy  \", names2)\n",
    "# \n",
    "# names.clear()\n",
    "# print(\"6-   \", names)\n",
    "# # # <<<<<<<<<<<<<<<<<<<listeler>>>>>>>>>>>>>>>>>>>\n",
    "\n",
    "# # <<<<<<<<<<<<<<<<<<<<<<<<<Tuples>>>>>>>>>>>>>>>>>>>>>>>>>\n",
    "#\n",
    "# coordinates = (4, 5) #tuple içindeki veriler değiştirilemez\n",
    "# coordinates2 = [(4, 5),(6, 7), (20, 30)] # tuple listesi\n",
    "#\n",
    "# print(coordinates[0])\n",
    "# # <<<<<<<<<<<<<<<<<<<<<<<<<Tuples>>>>>>>>>>>>>>>>>>>>>>>>>\n",
    "\n",
    "# <<<<<<<<<<<<<<<<<dictionary>>>>>>>>>>>>>>>>>\n",
    "\n",
    "# month = {\n",
    "#     1 : \"January\",\n",
    "#     \"Feb\" : \"February\",\n",
    "#     \"Mar\" : \"March\",\n",
    "#     \"Apr\" : \"April\",\n",
    "#     5 : \"May\",\n",
    "# }\n",
    "#\n",
    "# print(month[\"Apr\"])\n",
    "# print(month.get(\"Feb\"))\n",
    "# # print([month[\"asd\"]) # hata verir\n",
    "# print(month.get(\"asd\")) #get ile çağırırsan hata vermez None döner\n",
    "#\n",
    "# print(month[5])\n",
    "# print(month.get(1))\n",
    "\n",
    "# <<<<<<<<<<<<<<<<<dictionary>>>>>>>>>>>>>>>>>\n",
    "\n",
    "# list1=[1,2,3,4,5]\n",
    "\n",
    "# l2=[\"a\",\"b\",\"c\",\"d\"]\n",
    "\n",
    "# l2[0], l2[1] = l2[1], l2[2]\n",
    "# print(l2)\n",
    "\n",
    "# import random\n",
    "\n",
    "\n",
    "# liste=[\"Tayyip\",\"Yunus Emre\",\"Mustafa\",\"Mehmet\",\n",
    "#        \"Fethullah\",\"Hasan\",\"Ertan\",\"Merve\",\"Ömer\",\n",
    "#        \"Emrullah\",\"Murat\",\"Furkan\"\n",
    "#        ]\n",
    "# print(random.choice(liste))\n",
    "\n",
    "# t=[[i for i in range (3)] for j in range(5)]\n",
    "# print(t)"
   ]
  },
  {
   "cell_type": "markdown",
   "metadata": {},
   "source": [
    "            P y t h o n    T U P L E S\n",
    "\n",
    "• Python'daki bir TUPLE, bir listeye benzer.  \n",
    "• İkisi arasındaki fark, bir Tuple atandıktan sonra elemanlarını değiştiremeyiz, ancak bir listenin elemanlarını değiştirebiliriz.  \n",
    "• Bir TUPLE Oluşturma \n",
    "• Tüm öğeler (öğeler) virgülle ayırarak 0 parantez içine yerleştirilerek bir grup oluşturulur.  Parantezler isteğe bağlıdır, ancak bunları kullanmak iyi bir uygulamadır.  \n",
    "• Bir TUPLE herhangi bir sayıda öğeye sahip olabilir ve bunlar farklı türlerde olabilir (int, float list, string, vb.)."
   ]
  },
  {
   "cell_type": "code",
   "execution_count": null,
   "metadata": {},
   "outputs": [],
   "source": [
    "####### T U P L E #########\n",
    "my_tuple = ()\n",
    "print(my_tuple)"
   ]
  },
  {
   "cell_type": "code",
   "execution_count": null,
   "metadata": {},
   "outputs": [],
   "source": [
    "my_tuple = (1,2,3)\n",
    "print(my_tuple)"
   ]
  },
  {
   "cell_type": "code",
   "execution_count": 4,
   "metadata": {},
   "outputs": [
    {
     "name": "stdout",
     "output_type": "stream",
     "text": [
      "(3, 4.6, 'dog')\n"
     ]
    }
   ],
   "source": [
    "# Parantez Kullanmadan Tuple oluşturulabilir.\n",
    "\n",
    "my_tuple = 3, 4.6, \"dog\"\n",
    "print(my_tuple)"
   ]
  },
  {
   "cell_type": "code",
   "execution_count": null,
   "metadata": {},
   "outputs": [],
   "source": [
    "a, b, c = my_tuple\n",
    "print(a)\n",
    "print(b)\n",
    "print(c)"
   ]
  },
  {
   "cell_type": "code",
   "execution_count": null,
   "metadata": {},
   "outputs": [],
   "source": [
    "# Tuple olması için parantez içinde eleman olması yeterli değil\n",
    "# Tuple olması içn sonunda virgül olmalı\n",
    "my_tuple=(\"hello\")\n",
    "print(type(my_tuple)) #<class 'str'>\n",
    "\n",
    "my_tuple=(\"hello\",)\n",
    "print(type(my_tuple)) #<class 'tuple'>\n",
    "\n",
    "my_tuple=\"hello\",\n",
    "print(type(my_tuple)) #<class 'tuple'>   \n"
   ]
  },
  {
   "cell_type": "code",
   "execution_count": null,
   "metadata": {},
   "outputs": [],
   "source": [
    "my_tuple = ('p',\t'e',\t'r',\t'm',\t'i',\t't',)\n",
    "print(my_tuple[0])\n",
    "print(my_tuple[3])"
   ]
  },
  {
   "cell_type": "code",
   "execution_count": 1,
   "metadata": {},
   "outputs": [
    {
     "name": "stdout",
     "output_type": "stream",
     "text": [
      "s\n",
      "4\n",
      "2\n"
     ]
    }
   ],
   "source": [
    "n_tuple= (\"mouse\",[8, 4, 60],(1, 2, 3))\n",
    "\n",
    "print(n_tuple[0][3]) #mouse içindeki 3. index\n",
    "print(n_tuple[1][1]) #liste içindeki 1. index\n",
    "print(n_tuple[2][1]) #tuple içindeki 1. index"
   ]
  },
  {
   "cell_type": "code",
   "execution_count": null,
   "metadata": {},
   "outputs": [],
   "source": [
    "my_tuple = ('p','e','r','m','i','t','a','s','y','o','n')\n",
    "print(my_tuple[-1])\n",
    "print(my_tuple[-6])"
   ]
  },
  {
   "cell_type": "code",
   "execution_count": null,
   "metadata": {},
   "outputs": [],
   "source": [
    "print(my_tuple[1:4])\n",
    "print(my_tuple[:-7])\n",
    "print(my_tuple[7:])"
   ]
  },
  {
   "cell_type": "code",
   "execution_count": null,
   "metadata": {},
   "outputs": [],
   "source": [
    "# Tuple içimndeki veri değiştirilemez\n",
    "\n",
    "my_tuple=(4,2,3,[6,5]) \n",
    "\n",
    "#my_tuple[1]=9      #tuple içindeki değer değişemez.\n",
    "my_tuple[3][0]=9    # Tuple içindeki listedeki değer değişebilir.\n",
    "print(my_tuple)\n",
    "\n",
    "my_tuple=('p','e','r','m','i','t','a','s','y','o','n')\n",
    "print(my_tuple)     #Tuple tekrar atanabilir"
   ]
  },
  {
   "cell_type": "code",
   "execution_count": null,
   "metadata": {},
   "outputs": [],
   "source": [
    "# İki Tuple birleştirilebilir + ile\n",
    "\n",
    "print((1,2,3)+(4,5,6))\n",
    "print((\"Repeat\",)*3)"
   ]
  },
  {
   "cell_type": "code",
   "execution_count": null,
   "metadata": {},
   "outputs": [],
   "source": [
    "del my_tuple # Tuple silinebilir\n",
    "print(my_tuple)"
   ]
  },
  {
   "cell_type": "code",
   "execution_count": null,
   "metadata": {},
   "outputs": [],
   "source": [
    "# Veri ekleme yada kaldırma metodları yok\n",
    "my_tuple=('a','p','p','e','l',)\n",
    "print(my_tuple.count('p')) #say\n",
    "print(my_tuple.index('a')) #index'i bul\n",
    "\n",
    "print('a' in my_tuple) #bu değer varsa True"
   ]
  },
  {
   "cell_type": "code",
   "execution_count": null,
   "metadata": {},
   "outputs": [],
   "source": [
    "for name in ('John','Kate'):\n",
    "    print(\"Hello\",name)"
   ]
  },
  {
   "cell_type": "markdown",
   "metadata": {},
   "source": [
    "Tuple'ın List'e Göre Avantajları\n",
    "\n",
    " • Tuple'lar listelere oldukça benzer olduğundan, her ikisi de benzer durumlarda kullanılır.  Ancak, bir liste yerine bir tanımlama grubu uygulamanın bazı avantajları vardır.  • • Aşağıda listelenen ana avantajlardan bazıları şunlardır:\n",
    "\n",
    "•  Genellikle heterojen (farklı) veri türleri için Tuple ve \n",
    " homojen (benzer) veri türleri için listeler kullanırız.\n",
    "\n",
    " • Tuple değişmez olduğundan, Tuple üzerinden yineleme yapmak listeden daha hızlıdır.  Yani hafif bir performans artışı var.\n",
    "\n",
    " • Değişmez öğeler içeren Tupler bir sözlük için anahtar olarak kullanılabilir.  Listelerle bu mümkün değildir.\n",
    "\n",
    " • Değişmeyen verileriniz varsa, bunları Tuple olarak uygulamak, yazmaya karşı korumalı kalmasını garanti eder."
   ]
  },
  {
   "cell_type": "markdown",
   "metadata": {},
   "source": [
    "            P y t h o n   S E T S (Kümeler)\n",
    "\n",
    "• Bir SET, sıralanmamış bir öğeler topluluğudur.  Her küme öğesi benzersizdir (yineleme yok) ve değişmez olmalıdır (değiştirilemez).\n",
    "\n",
    "• Ancak, bir SET'in kendisi değişkendir.  Ondan öğeler ekleyebilir veya çıkarabiliriz.\n",
    "\n",
    "• SET'ler aynı zamanda birleşim, kesişim, simetrik fark gibi matematiksel küme işlemlerini gerçekleştirmek için de kullanılabilir.\n",
    "\n",
    "• Tüm öğeleri (öğeleri) SET parantezleri içine virgülle ayırarak veya yerleşik set() işlevi kullanılarak yerleştirilerek bir SET oluşturulur.\n",
    "\n",
    "• Herhangi bir sayıda öğeye sahip olabilir ve farklı türlerde olabilirler (integer, float, tuple, string vb.).  \n",
    "Ancak bir SET, öğeleri olarak List Set veya Dictionaries gibi değiştirilebilir öğelere sahip olamaz."
   ]
  },
  {
   "cell_type": "code",
   "execution_count": null,
   "metadata": {},
   "outputs": [],
   "source": [
    "my_set = {1,2,3}\n",
    "print(my_set)\n",
    "\n",
    "my_set={1.0, \"Hello\", (1, 2, 3)}\n",
    "print(my_set)"
   ]
  },
  {
   "cell_type": "code",
   "execution_count": null,
   "metadata": {},
   "outputs": [],
   "source": [
    "my_set={1,2,3,4,2,3,2} # Set' de tekrar olamaz\n",
    "print(my_set) # {1, 2, 3, 4}"
   ]
  },
  {
   "cell_type": "code",
   "execution_count": null,
   "metadata": {},
   "outputs": [],
   "source": [
    "# Listeden Set yapabiliriz. \n",
    "\n",
    "my_set = set([1,2,3,2,3,3,2,1,2]) # tekrarları almaz\n",
    "print(my_set)"
   ]
  },
  {
   "cell_type": "code",
   "execution_count": null,
   "metadata": {},
   "outputs": [],
   "source": [
    "# Set ler değiştirilebilir veriye sahip olamaz\n",
    "my_set={1,2,[3,4]}"
   ]
  },
  {
   "cell_type": "code",
   "execution_count": 7,
   "metadata": {},
   "outputs": [
    {
     "name": "stdout",
     "output_type": "stream",
     "text": [
      "<class 'dict'>\n",
      "<class 'set'>\n"
     ]
    }
   ],
   "source": [
    "# Set boş küme {} ile tanımlanamaz. \n",
    "# Bunun yerine set() fonks. kullanılır\n",
    "a={} \n",
    "print(type(a)) # <class 'dict'>\n",
    "\n",
    "a=set([2,3,4])\n",
    "print(type(a)) # <class 'set'>"
   ]
  },
  {
   "cell_type": "markdown",
   "metadata": {},
   "source": [
    "• set'ler (kümeler) değişkendir.  Ancak sırasız oldukları için indekslemenin bir anlamı yoktur.\n",
    "\n",
    "• indexing veya slicing kullanarak bir kümenin öğesine erişemez veya öğeyi değiştiremeyiz. Set veri türü bunu desteklemiyor.\n",
    "\n",
    "• add() yöntemini kullanarak tek bir öğe ve update() yöntemini kullanarak birden çok öğe ekleyebiliriz.  update() yöntemi, bağımsız değişkeni olarak tuple, listeler, string veya başka kümeleri alabilir.  Her durumda, kopyalardan kaçınılır."
   ]
  },
  {
   "cell_type": "code",
   "execution_count": 9,
   "metadata": {},
   "outputs": [
    {
     "name": "stdout",
     "output_type": "stream",
     "text": [
      "{1, 2, 3}\n",
      "{1, 2, 3}\n",
      "{1, 2, 3, 4}\n",
      "{1, 2, 3, 4, 5, 6, 8}\n"
     ]
    }
   ],
   "source": [
    "my_set={1,3,3,2,2,1} # (dublicate) tekrarlama yok \n",
    "print(my_set)\n",
    "\n",
    "my_set.add(2)\n",
    "print(my_set)\n",
    "\n",
    "my_set.update([2,3,4])\n",
    "print(my_set)\n",
    "\n",
    "my_set.update([4,5],{1,6,8,5,4})\n",
    "print(my_set)"
   ]
  },
  {
   "cell_type": "markdown",
   "metadata": {},
   "source": [
    "• Bir kümeden eleman çıkarma\n",
    "\n",
    "• Belirli bir öğe, discard() ve remove() yöntemleri kullanılarak bir SET'den çıkarılabilir.\n",
    "\n",
    "• İkisi arasındaki tek fark, öğe set'de mevcut değilse, discard() işlevinin bir set'i değiştirmeden bırakmasıdır.  Öte yandan, remove() işlevi, böyle bir durumda (set'de öğe yoksa) bir hata oluşturacaktır."
   ]
  },
  {
   "cell_type": "code",
   "execution_count": null,
   "metadata": {},
   "outputs": [],
   "source": [
    "my_set={1,3,4,5,6} \n",
    "print(my_set)\n",
    "\n",
    "my_set.discard(4)\n",
    "print(my_set)\n",
    "\n",
    "my_set.remove(6)\n",
    "print(my_set)\n",
    "\n",
    "my_set.discard(2) # Set' de 2 yok fakat hata vermez\n",
    "print(my_set)\n",
    "\n",
    "my_set.remove(2) # Set'de 2 olmadığı için hata verir\n",
    "print(my_set)"
   ]
  },
  {
   "cell_type": "code",
   "execution_count": null,
   "metadata": {},
   "outputs": [],
   "source": [
    "# pop() kullanarak bir veri çıkarılabilir\n",
    "# Set'lerde sıra olmadığı için hangi verinin çıkarılacağı belirlemenin bir yolu yok.\n",
    "# clear() ile tüm set silinebilir\n",
    "\n",
    "my_set=set(\"HelloWorld\")\n",
    "print(my_set)\n",
    "\n",
    "print(my_set.pop()) #random bir harfi siler\n",
    "\n",
    "print(my_set)\n",
    "\n",
    "my_set.clear()\n",
    "print(my_set)"
   ]
  },
  {
   "cell_type": "code",
   "execution_count": null,
   "metadata": {},
   "outputs": [],
   "source": [
    "\"\"\"\" Set'ler, birleşim, kesişim, fark ve simetrik fark gibi \n",
    " matematiksel küme işlemlerini yapmak için kullanılabilir\"\"\"\n",
    " \n",
    "A = {1, 2, 3, 4, 5}\n",
    "B = {4, 5, 6, 7, 8}\n",
    "\n",
    "print(A | B)        # Birleşim (union)\n",
    "\n",
    "print(A.union(B))   # Fonksiyon olarak\n",
    "print(B.union(A))"
   ]
  },
  {
   "cell_type": "code",
   "execution_count": null,
   "metadata": {},
   "outputs": [],
   "source": [
    "A = {1, 2, 3, 4, 5}\n",
    "B = {4, 5, 6, 7, 8}\n",
    "\n",
    "print(A & B)                # Kesişim (intersection)\n",
    "print(A.intersection(B))    # Fonksiyon olarak\n",
    "print(B.intersection(A))"
   ]
  },
  {
   "cell_type": "code",
   "execution_count": null,
   "metadata": {},
   "outputs": [],
   "source": [
    "print(A - B)            # A Fark B (difference)\n",
    "print(B - A)            # B Fark A\n",
    "print(A.difference(B))  # Fonksiyon olarak    \n",
    "print(B.difference(A))"
   ]
  },
  {
   "cell_type": "code",
   "execution_count": null,
   "metadata": {},
   "outputs": [],
   "source": [
    "A = {1, 2, 3, 4, 5, 9}\n",
    "B = {4, 5, 6, 7, 8}\n",
    "print(A ^ B)                     # Simetrik Fark(symmetric difference) \n",
    "print(B ^ A)                     # Kesişimin Tersi\n",
    "\n",
    "print(A.symmetric_difference(B))\n",
    "print(B.symmetric_difference(A))"
   ]
  },
  {
   "cell_type": "code",
   "execution_count": null,
   "metadata": {},
   "outputs": [],
   "source": [
    "my_set=set(\"apple\")\n",
    "print(\"a\" in my_set) #True\n",
    "\n",
    "for letter in set (\"apple\"): # tekrarlanan harfler çıkmaz. Sıra yok. Random harf\n",
    "    print(letter)"
   ]
  },
  {
   "cell_type": "markdown",
   "metadata": {},
   "source": [
    "            Python FROZENSET   \n",
    "            \n",
    "• Frozenset, bir kümenin(set) özelliklerine sahip yeni bir sınıftır, ancak öğeleri atandıktan sonra değiştirilemez.  \n",
    "Tuple'lar değişmez listeler iken, frozenset'ler değişmez kümelerdir(set).\n",
    "\n",
    "• Değişken olan kümeler(setler), (unhashable)karıştırılamaz, bu nedenle sözlük anahtarları olarak kullanılamazlar.  \n",
    "Öte yandan, frozenset'ler hashable'dır ve bir sözlüğün anahtarı olarak kullanılabilir.\n",
    "\n",
    "• Frozensets, frozenset() işlevi kullanılarak oluşturulabilir.\n",
    "\n",
    "• Bu veri türü, copy(), difference(), intersection (), isdisjoint(), issubset(), issuperset(), smetric_difference() ve union() gibi yöntemleri destekler.  \n",
    "\n",
    "• Değişmez olduğu için eleman ekleyen veya çıkaran yöntemlere sahip değildir.            \n"
   ]
  },
  {
   "cell_type": "code",
   "execution_count": 17,
   "metadata": {},
   "outputs": [
    {
     "data": {
      "text/plain": [
       "False"
      ]
     },
     "execution_count": 17,
     "metadata": {},
     "output_type": "execute_result"
    }
   ],
   "source": [
    "A = frozenset([1, 2, 3, 4])\n",
    "B = frozenset([3 ,4, 5, 6])\n",
    "\n",
    "# print(A.isdisjoint(B)) #False (kesişimi yok)\n",
    "# print(A.difference(B))\n",
    "# print(A | B)\n",
    "\n",
    "# A.issubset(B) # A, B'nin alt kümesi mi ?\n",
    "B.issuperset(A) # B, A'nın üst kümesi mi ?\n"
   ]
  },
  {
   "cell_type": "markdown",
   "metadata": {},
   "source": [
    "            P y t h o n     D I C T I O N A R Y\n"
   ]
  },
  {
   "cell_type": "code",
   "execution_count": 18,
   "metadata": {},
   "outputs": [
    {
     "name": "stdout",
     "output_type": "stream",
     "text": [
      "kat\n",
      "hond\n",
      "paard\n"
     ]
    }
   ],
   "source": [
    "dic = {\n",
    "    \"cat\" : \"kat\",\n",
    "    \"dog\" : \"hond\",\n",
    "    \"horse\" : \"paard\"\n",
    "    }\n",
    "\n",
    "for value in dic.values():\n",
    "    print(value)"
   ]
  },
  {
   "cell_type": "code",
   "execution_count": 21,
   "metadata": {},
   "outputs": [
    {
     "data": {
      "text/plain": [
       "'hond'"
      ]
     },
     "execution_count": 21,
     "metadata": {},
     "output_type": "execute_result"
    }
   ],
   "source": [
    "# dic[\"dog\"]\n",
    "dic.get(\"dog\")"
   ]
  },
  {
   "cell_type": "code",
   "execution_count": 40,
   "metadata": {},
   "outputs": [
    {
     "data": {
      "text/plain": [
       "'leuww'"
      ]
     },
     "execution_count": 40,
     "metadata": {},
     "output_type": "execute_result"
    }
   ],
   "source": [
    "dic.update({\"lion\" : \"leuww\"})\n",
    "dic[\"lion\"]"
   ]
  },
  {
   "cell_type": "code",
   "execution_count": 41,
   "metadata": {},
   "outputs": [
    {
     "name": "stdout",
     "output_type": "stream",
     "text": [
      "('cat', 'kat')\n",
      "('dog', 'hond')\n",
      "('horse', 'paard')\n",
      "('lion', 'leuww')\n"
     ]
    }
   ],
   "source": [
    "for i in dic.items():\n",
    "    print(i)"
   ]
  },
  {
   "cell_type": "code",
   "execution_count": 42,
   "metadata": {},
   "outputs": [
    {
     "name": "stdout",
     "output_type": "stream",
     "text": [
      "cat >>> kat\n",
      "dog >>> hond\n",
      "horse >>> paard\n",
      "lion >>> leuww\n"
     ]
    }
   ],
   "source": [
    "for x,y in dic.items(): # x=keys, y=values\n",
    "    print(x,\">>>\",y)"
   ]
  },
  {
   "cell_type": "code",
   "execution_count": 43,
   "metadata": {},
   "outputs": [
    {
     "name": "stdout",
     "output_type": "stream",
     "text": [
      "cat\n",
      "dog\n",
      "horse\n",
      "lion\n"
     ]
    }
   ],
   "source": [
    "for x in dic.keys(): # key\n",
    "    print(x)"
   ]
  },
  {
   "cell_type": "code",
   "execution_count": 44,
   "metadata": {},
   "outputs": [
    {
     "name": "stdout",
     "output_type": "stream",
     "text": [
      "kat\n",
      "hond\n",
      "paard\n",
      "leuww\n"
     ]
    }
   ],
   "source": [
    "for x in dic.values(): # values\n",
    "    print(x)"
   ]
  },
  {
   "cell_type": "code",
   "execution_count": 36,
   "metadata": {},
   "outputs": [
    {
     "data": {
      "text/plain": [
       "('lion', 'leuww')"
      ]
     },
     "execution_count": 36,
     "metadata": {},
     "output_type": "execute_result"
    }
   ],
   "source": [
    "dic.popitem()"
   ]
  },
  {
   "cell_type": "code",
   "execution_count": null,
   "metadata": {},
   "outputs": [],
   "source": [
    "# list=(x for x in range(1111111))\n",
    "list=[x for x in range(1111111)]\n",
    "\n",
    "for i in list:\n",
    "    print(i)"
   ]
  }
 ],
 "metadata": {
  "interpreter": {
   "hash": "3e6d73b476d4936eced2c750b86fab3a91f9194235a8878ca669426c62d43a39"
  },
  "kernelspec": {
   "display_name": "Python 3.10.1 64-bit",
   "language": "python",
   "name": "python3"
  },
  "language_info": {
   "codemirror_mode": {
    "name": "ipython",
    "version": 3
   },
   "file_extension": ".py",
   "mimetype": "text/x-python",
   "name": "python",
   "nbconvert_exporter": "python",
   "pygments_lexer": "ipython3",
   "version": "3.10.1"
  },
  "orig_nbformat": 4
 },
 "nbformat": 4,
 "nbformat_minor": 2
}
